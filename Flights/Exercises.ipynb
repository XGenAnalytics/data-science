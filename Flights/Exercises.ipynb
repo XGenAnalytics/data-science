{
 "metadata": {
  "name": "",
  "signature": "sha256:e0e9f9b5f48628585abdb1908395454de9182d856672f3c1dc8872905195842f"
 },
 "nbformat": 3,
 "nbformat_minor": 0,
 "worksheets": [
  {
   "cells": [
    {
     "cell_type": "code",
     "collapsed": false,
     "input": [
      "import pandas as pd\n",
      "from pandas import *"
     ],
     "language": "python",
     "metadata": {},
     "outputs": [],
     "prompt_number": 11
    },
    {
     "cell_type": "code",
     "collapsed": false,
     "input": [
      "# FIRST EXERCISE: Counting Number of Lines for Each File"
     ],
     "language": "python",
     "metadata": {},
     "outputs": [],
     "prompt_number": 12
    },
    {
     "cell_type": "code",
     "collapsed": false,
     "input": [
      "cnt_booking=0\n",
      "with open(\"C:/amadeus/bookings.csv\") as infile:\n",
      "    for line in infile:\n",
      "        cnt_booking=cnt_booking+1\n",
      "    print 'No of lines for Bookings: %d' % cnt_booking"
     ],
     "language": "python",
     "metadata": {},
     "outputs": [
      {
       "output_type": "stream",
       "stream": "stdout",
       "text": [
        "No of lines for Bookings: 10000011\n"
       ]
      }
     ],
     "prompt_number": 13
    },
    {
     "cell_type": "code",
     "collapsed": false,
     "input": [
      "cnt_searches=0\n",
      "with open(\"C:/amadeus/searches.csv\") as infile:\n",
      "    for line in infile:\n",
      "        cnt_searches=cnt_searches+1\n",
      "    print 'No of lines for Searches: %d' % cnt_searches"
     ],
     "language": "python",
     "metadata": {},
     "outputs": [
      {
       "output_type": "stream",
       "stream": "stdout",
       "text": [
        "No of lines for Searches: 20390199\n"
       ]
      }
     ],
     "prompt_number": 14
    },
    {
     "cell_type": "code",
     "collapsed": false,
     "input": [
      "# Second exercise: top 10 arrival airports in the world in 2013 (using the bookings file)"
     ],
     "language": "python",
     "metadata": {},
     "outputs": [],
     "prompt_number": 15
    },
    {
     "cell_type": "code",
     "collapsed": false,
     "input": [
      "df=pd.read_table('C:/amadeus/bookings.csv',sep='^',iterator=True,chunksize=50000)"
     ],
     "language": "python",
     "metadata": {},
     "outputs": [],
     "prompt_number": 16
    },
    {
     "cell_type": "code",
     "collapsed": false,
     "input": [
      "df.get_chunk(5)"
     ],
     "language": "python",
     "metadata": {},
     "outputs": [
      {
       "html": [
        "<div style=\"max-height:1000px;max-width:1500px;overflow:auto;\">\n",
        "<table border=\"1\" class=\"dataframe\">\n",
        "  <thead>\n",
        "    <tr style=\"text-align: right;\">\n",
        "      <th></th>\n",
        "      <th>act_date           </th>\n",
        "      <th>source</th>\n",
        "      <th>pos_ctry</th>\n",
        "      <th>pos_iata</th>\n",
        "      <th>pos_oid  </th>\n",
        "      <th>rloc          </th>\n",
        "      <th>cre_date           </th>\n",
        "      <th>duration</th>\n",
        "      <th>distance</th>\n",
        "      <th>dep_port</th>\n",
        "      <th>...</th>\n",
        "      <th>route          </th>\n",
        "      <th>carrier</th>\n",
        "      <th>bkg_class</th>\n",
        "      <th>cab_class</th>\n",
        "      <th>brd_time           </th>\n",
        "      <th>off_time           </th>\n",
        "      <th>pax</th>\n",
        "      <th>year</th>\n",
        "      <th>month</th>\n",
        "      <th>oid      </th>\n",
        "    </tr>\n",
        "  </thead>\n",
        "  <tbody>\n",
        "    <tr>\n",
        "      <th>0</th>\n",
        "      <td> 2013-03-05 00:00:00</td>\n",
        "      <td> 1A    </td>\n",
        "      <td> DE      </td>\n",
        "      <td> a68dd7ae953c8acfb187a1af2dcbe123</td>\n",
        "      <td> 1a11ae49fcbf545fd2afc1a24d88d2b7</td>\n",
        "      <td> ea65900e72d71f4626378e2ebd298267</td>\n",
        "      <td> 2013-02-22 00:00:00</td>\n",
        "      <td>   1708</td>\n",
        "      <td> 0</td>\n",
        "      <td> ZRH     </td>\n",
        "      <td>...</td>\n",
        "      <td> LHRZRH         </td>\n",
        "      <td> VI</td>\n",
        "      <td> T        </td>\n",
        "      <td> Y        </td>\n",
        "      <td> 2013-03-07 08:50:00</td>\n",
        "      <td> 2013-03-07 11:33:37</td>\n",
        "      <td>-1</td>\n",
        "      <td> 2013</td>\n",
        "      <td> 3</td>\n",
        "      <td> NULL     </td>\n",
        "    </tr>\n",
        "    <tr>\n",
        "      <th>1</th>\n",
        "      <td> 2013-03-26 00:00:00</td>\n",
        "      <td> 1A    </td>\n",
        "      <td> US      </td>\n",
        "      <td> e612b9eeeee6f17f42d9b0d3b79e75ca</td>\n",
        "      <td> 7437560d8f276d6d05eeb806d9e7edee</td>\n",
        "      <td> 737295a86982c941f1c2da9a46a14043</td>\n",
        "      <td> 2013-03-26 00:00:00</td>\n",
        "      <td> 135270</td>\n",
        "      <td> 0</td>\n",
        "      <td> SAL     </td>\n",
        "      <td>...</td>\n",
        "      <td> SALATLCLT      </td>\n",
        "      <td> NV</td>\n",
        "      <td> L        </td>\n",
        "      <td> Y        </td>\n",
        "      <td> 2013-04-12 13:04:00</td>\n",
        "      <td> 2013-04-12 22:05:40</td>\n",
        "      <td> 1</td>\n",
        "      <td> 2013</td>\n",
        "      <td> 3</td>\n",
        "      <td> NULL     </td>\n",
        "    </tr>\n",
        "    <tr>\n",
        "      <th>2</th>\n",
        "      <td> 2013-03-26 00:00:00</td>\n",
        "      <td> 1A    </td>\n",
        "      <td> US      </td>\n",
        "      <td> e612b9eeeee6f17f42d9b0d3b79e75ca</td>\n",
        "      <td> 7437560d8f276d6d05eeb806d9e7edee</td>\n",
        "      <td> 737295a86982c941f1c2da9a46a14043</td>\n",
        "      <td> 2013-03-26 00:00:00</td>\n",
        "      <td> 135270</td>\n",
        "      <td> 0</td>\n",
        "      <td> SAL     </td>\n",
        "      <td>...</td>\n",
        "      <td> CLTATLSAL      </td>\n",
        "      <td> NV</td>\n",
        "      <td> U        </td>\n",
        "      <td> Y        </td>\n",
        "      <td> 2013-07-15 07:00:00</td>\n",
        "      <td> 2013-07-15 11:34:51</td>\n",
        "      <td> 1</td>\n",
        "      <td> 2013</td>\n",
        "      <td> 3</td>\n",
        "      <td> NULL     </td>\n",
        "    </tr>\n",
        "    <tr>\n",
        "      <th>3</th>\n",
        "      <td> 2013-03-26 00:00:00</td>\n",
        "      <td> 1A    </td>\n",
        "      <td> AU      </td>\n",
        "      <td> 0f984b3bb6bd06661c95529bbd6193bc</td>\n",
        "      <td> 36472c6dbaf7afec9136ac40364e2794</td>\n",
        "      <td> 5ecf00fdcbcec761c43dc7285253d0c1</td>\n",
        "      <td> 2013-03-26 00:00:00</td>\n",
        "      <td>  30885</td>\n",
        "      <td> 0</td>\n",
        "      <td> AKL     </td>\n",
        "      <td>...</td>\n",
        "      <td> AKLHKGSVO      </td>\n",
        "      <td> XK</td>\n",
        "      <td> G        </td>\n",
        "      <td> Y        </td>\n",
        "      <td> 2013-04-24 23:59:00</td>\n",
        "      <td> 2013-04-25 16:06:31</td>\n",
        "      <td> 1</td>\n",
        "      <td> 2013</td>\n",
        "      <td> 3</td>\n",
        "      <td> SYDA82546</td>\n",
        "    </tr>\n",
        "    <tr>\n",
        "      <th>4</th>\n",
        "      <td> 2013-03-26 00:00:00</td>\n",
        "      <td> 1A    </td>\n",
        "      <td> AU      </td>\n",
        "      <td> 0f984b3bb6bd06661c95529bbd6193bc</td>\n",
        "      <td> 36472c6dbaf7afec9136ac40364e2794</td>\n",
        "      <td> 5ecf00fdcbcec761c43dc7285253d0c1</td>\n",
        "      <td> 2013-03-26 00:00:00</td>\n",
        "      <td>  30885</td>\n",
        "      <td> 0</td>\n",
        "      <td> AKL     </td>\n",
        "      <td>...</td>\n",
        "      <td> SVOHKGAKL      </td>\n",
        "      <td> XK</td>\n",
        "      <td> G        </td>\n",
        "      <td> Y        </td>\n",
        "      <td> 2013-05-14 20:15:00</td>\n",
        "      <td> 2013-05-16 10:44:50</td>\n",
        "      <td> 1</td>\n",
        "      <td> 2013</td>\n",
        "      <td> 3</td>\n",
        "      <td> SYDA82546</td>\n",
        "    </tr>\n",
        "  </tbody>\n",
        "</table>\n",
        "<p>5 rows \u00d7 38 columns</p>\n",
        "</div>"
       ],
       "metadata": {},
       "output_type": "pyout",
       "prompt_number": 17,
       "text": [
        "   act_date             source  pos_ctry                          pos_iata  \\\n",
        "0  2013-03-05 00:00:00  1A      DE        a68dd7ae953c8acfb187a1af2dcbe123   \n",
        "1  2013-03-26 00:00:00  1A      US        e612b9eeeee6f17f42d9b0d3b79e75ca   \n",
        "2  2013-03-26 00:00:00  1A      US        e612b9eeeee6f17f42d9b0d3b79e75ca   \n",
        "3  2013-03-26 00:00:00  1A      AU        0f984b3bb6bd06661c95529bbd6193bc   \n",
        "4  2013-03-26 00:00:00  1A      AU        0f984b3bb6bd06661c95529bbd6193bc   \n",
        "\n",
        "                          pos_oid                      rloc            \\\n",
        "0  1a11ae49fcbf545fd2afc1a24d88d2b7  ea65900e72d71f4626378e2ebd298267   \n",
        "1  7437560d8f276d6d05eeb806d9e7edee  737295a86982c941f1c2da9a46a14043   \n",
        "2  7437560d8f276d6d05eeb806d9e7edee  737295a86982c941f1c2da9a46a14043   \n",
        "3  36472c6dbaf7afec9136ac40364e2794  5ecf00fdcbcec761c43dc7285253d0c1   \n",
        "4  36472c6dbaf7afec9136ac40364e2794  5ecf00fdcbcec761c43dc7285253d0c1   \n",
        "\n",
        "   cre_date             duration  distance  dep_port    ...     \\\n",
        "0  2013-02-22 00:00:00      1708         0  ZRH         ...      \n",
        "1  2013-03-26 00:00:00    135270         0  SAL         ...      \n",
        "2  2013-03-26 00:00:00    135270         0  SAL         ...      \n",
        "3  2013-03-26 00:00:00     30885         0  AKL         ...      \n",
        "4  2013-03-26 00:00:00     30885         0  AKL         ...      \n",
        "\n",
        "   route           carrier  bkg_class  cab_class  brd_time             \\\n",
        "0  LHRZRH               VI  T          Y          2013-03-07 08:50:00   \n",
        "1  SALATLCLT            NV  L          Y          2013-04-12 13:04:00   \n",
        "2  CLTATLSAL            NV  U          Y          2013-07-15 07:00:00   \n",
        "3  AKLHKGSVO            XK  G          Y          2013-04-24 23:59:00   \n",
        "4  SVOHKGAKL            XK  G          Y          2013-05-14 20:15:00   \n",
        "\n",
        "   off_time            pax  year month  oid        \n",
        "0  2013-03-07 11:33:37  -1  2013     3  NULL       \n",
        "1  2013-04-12 22:05:40   1  2013     3  NULL       \n",
        "2  2013-07-15 11:34:51   1  2013     3  NULL       \n",
        "3  2013-04-25 16:06:31   1  2013     3  SYDA82546  \n",
        "4  2013-05-16 10:44:50   1  2013     3  SYDA82546  \n",
        "\n",
        "[5 rows x 38 columns]"
       ]
      }
     ],
     "prompt_number": 17
    },
    {
     "cell_type": "code",
     "collapsed": false,
     "input": [
      "df=pd.read_table('C:/amadeus/bookings.csv',sep='^',usecols=['arr_port','pax'])"
     ],
     "language": "python",
     "metadata": {},
     "outputs": [],
     "prompt_number": 18
    },
    {
     "cell_type": "code",
     "collapsed": false,
     "input": [
      "dfg=df.groupby('arr_port').sum()\n",
      "print 'Top 10 arrival airports in the world in 2013'\n",
      "dfg.sort(['pax'],ascending=[0]).head(10)"
     ],
     "language": "python",
     "metadata": {},
     "outputs": [
      {
       "output_type": "stream",
       "stream": "stdout",
       "text": [
        "Top 10 arrival airports in the world in 2013\n"
       ]
      },
      {
       "html": [
        "<div style=\"max-height:1000px;max-width:1500px;overflow:auto;\">\n",
        "<table border=\"1\" class=\"dataframe\">\n",
        "  <thead>\n",
        "    <tr style=\"text-align: right;\">\n",
        "      <th></th>\n",
        "      <th>pax</th>\n",
        "    </tr>\n",
        "    <tr>\n",
        "      <th>arr_port</th>\n",
        "      <th></th>\n",
        "    </tr>\n",
        "  </thead>\n",
        "  <tbody>\n",
        "    <tr>\n",
        "      <th>LHR     </th>\n",
        "      <td> 88809</td>\n",
        "    </tr>\n",
        "    <tr>\n",
        "      <th>MCO     </th>\n",
        "      <td> 70930</td>\n",
        "    </tr>\n",
        "    <tr>\n",
        "      <th>LAX     </th>\n",
        "      <td> 70530</td>\n",
        "    </tr>\n",
        "    <tr>\n",
        "      <th>LAS     </th>\n",
        "      <td> 69630</td>\n",
        "    </tr>\n",
        "    <tr>\n",
        "      <th>JFK     </th>\n",
        "      <td> 66270</td>\n",
        "    </tr>\n",
        "    <tr>\n",
        "      <th>CDG     </th>\n",
        "      <td> 64490</td>\n",
        "    </tr>\n",
        "    <tr>\n",
        "      <th>BKK     </th>\n",
        "      <td> 59460</td>\n",
        "    </tr>\n",
        "    <tr>\n",
        "      <th>MIA     </th>\n",
        "      <td> 58150</td>\n",
        "    </tr>\n",
        "    <tr>\n",
        "      <th>SFO     </th>\n",
        "      <td> 58000</td>\n",
        "    </tr>\n",
        "    <tr>\n",
        "      <th>DXB     </th>\n",
        "      <td> 55590</td>\n",
        "    </tr>\n",
        "  </tbody>\n",
        "</table>\n",
        "</div>"
       ],
       "metadata": {},
       "output_type": "pyout",
       "prompt_number": 19,
       "text": [
        "            pax\n",
        "arr_port       \n",
        "LHR       88809\n",
        "MCO       70930\n",
        "LAX       70530\n",
        "LAS       69630\n",
        "JFK       66270\n",
        "CDG       64490\n",
        "BKK       59460\n",
        "MIA       58150\n",
        "SFO       58000\n",
        "DXB       55590"
       ]
      }
     ],
     "prompt_number": 19
    },
    {
     "cell_type": "code",
     "collapsed": false,
     "input": [
      "# Finding City and Airport names with corresponding to airport"
     ],
     "language": "python",
     "metadata": {},
     "outputs": [],
     "prompt_number": 20
    },
    {
     "cell_type": "code",
     "collapsed": false,
     "input": [
      "from GeoBases import GeoBase\n",
      "geo_o = GeoBase(data='ori_por', verbose=False)"
     ],
     "language": "python",
     "metadata": {},
     "outputs": [],
     "prompt_number": 21
    },
    {
     "cell_type": "code",
     "collapsed": false,
     "input": [
      "df_geo=dfg.sort(['pax'],ascending=[0]).head(10).add_suffix('_total').reset_index()"
     ],
     "language": "python",
     "metadata": {},
     "outputs": [],
     "prompt_number": 22
    },
    {
     "cell_type": "code",
     "collapsed": false,
     "input": [
      "# Cleaning the white spaces"
     ],
     "language": "python",
     "metadata": {},
     "outputs": [],
     "prompt_number": 23
    },
    {
     "cell_type": "code",
     "collapsed": false,
     "input": [
      "df_geo['cleansed']=df_geo.arr_port.str.strip(' ')\n",
      "df_geo.drop('arr_port', axis=1, inplace=True)\n",
      "df_geo.rename(columns={'cleansed':'arr_port'}, inplace=True)\n",
      "df_geo['Airport_Name']=df_geo['arr_port']\n",
      "df_geo['City']=df_geo['arr_port']"
     ],
     "language": "python",
     "metadata": {},
     "outputs": [],
     "prompt_number": 24
    },
    {
     "cell_type": "code",
     "collapsed": false,
     "input": [
      "# Matching City and Airport Names"
     ],
     "language": "python",
     "metadata": {},
     "outputs": [],
     "prompt_number": 25
    },
    {
     "cell_type": "code",
     "collapsed": false,
     "input": [
      "i=0;\n",
      "while i < df_geo.arr_port.count():\n",
      "    df_geo['Airport_Name'][i]=geo_o.get(df_geo['arr_port'][i], 'name')\n",
      "    df_geo['City'][i]=geo_o.get(df_geo['arr_port'][i], 'city_code')\n",
      "    i=i+1\n",
      "df_geo=df_geo[['arr_port', 'pax_total', 'Airport_Name', 'City']]"
     ],
     "language": "python",
     "metadata": {},
     "outputs": [],
     "prompt_number": 26
    },
    {
     "cell_type": "code",
     "collapsed": false,
     "input": [
      "print 'Top 10 arrival airports in the world in 2013 with Airport and City Names'\n",
      "df_geo"
     ],
     "language": "python",
     "metadata": {},
     "outputs": [
      {
       "output_type": "stream",
       "stream": "stdout",
       "text": [
        "Top 10 arrival airports in the world in 2013 with Airport and City Names\n"
       ]
      },
      {
       "html": [
        "<div style=\"max-height:1000px;max-width:1500px;overflow:auto;\">\n",
        "<table border=\"1\" class=\"dataframe\">\n",
        "  <thead>\n",
        "    <tr style=\"text-align: right;\">\n",
        "      <th></th>\n",
        "      <th>arr_port</th>\n",
        "      <th>pax_total</th>\n",
        "      <th>Airport_Name</th>\n",
        "      <th>City</th>\n",
        "    </tr>\n",
        "  </thead>\n",
        "  <tbody>\n",
        "    <tr>\n",
        "      <th>0</th>\n",
        "      <td> LHR</td>\n",
        "      <td> 88809</td>\n",
        "      <td>              London Heathrow Airport</td>\n",
        "      <td> LON</td>\n",
        "    </tr>\n",
        "    <tr>\n",
        "      <th>1</th>\n",
        "      <td> MCO</td>\n",
        "      <td> 70930</td>\n",
        "      <td>        Orlando International Airport</td>\n",
        "      <td> ORL</td>\n",
        "    </tr>\n",
        "    <tr>\n",
        "      <th>2</th>\n",
        "      <td> LAX</td>\n",
        "      <td> 70530</td>\n",
        "      <td>    Los Angeles International Airport</td>\n",
        "      <td> LAX</td>\n",
        "    </tr>\n",
        "    <tr>\n",
        "      <th>3</th>\n",
        "      <td> LAS</td>\n",
        "      <td> 69630</td>\n",
        "      <td>      Mc Carran International Airport</td>\n",
        "      <td> LAS</td>\n",
        "    </tr>\n",
        "    <tr>\n",
        "      <th>4</th>\n",
        "      <td> JFK</td>\n",
        "      <td> 66270</td>\n",
        "      <td> John F Kennedy International Airport</td>\n",
        "      <td> NYC</td>\n",
        "    </tr>\n",
        "    <tr>\n",
        "      <th>5</th>\n",
        "      <td> CDG</td>\n",
        "      <td> 64490</td>\n",
        "      <td>            Paris - Charles-de-Gaulle</td>\n",
        "      <td> PAR</td>\n",
        "    </tr>\n",
        "    <tr>\n",
        "      <th>6</th>\n",
        "      <td> BKK</td>\n",
        "      <td> 59460</td>\n",
        "      <td>                         Suvarnabhumi</td>\n",
        "      <td> BKK</td>\n",
        "    </tr>\n",
        "    <tr>\n",
        "      <th>7</th>\n",
        "      <td> MIA</td>\n",
        "      <td> 58150</td>\n",
        "      <td>          Miami International Airport</td>\n",
        "      <td> MIA</td>\n",
        "    </tr>\n",
        "    <tr>\n",
        "      <th>8</th>\n",
        "      <td> SFO</td>\n",
        "      <td> 58000</td>\n",
        "      <td>  San Francisco International Airport</td>\n",
        "      <td> SFO</td>\n",
        "    </tr>\n",
        "    <tr>\n",
        "      <th>9</th>\n",
        "      <td> DXB</td>\n",
        "      <td> 55590</td>\n",
        "      <td>          Dubai International Airport</td>\n",
        "      <td> DXB</td>\n",
        "    </tr>\n",
        "  </tbody>\n",
        "</table>\n",
        "</div>"
       ],
       "metadata": {},
       "output_type": "pyout",
       "prompt_number": 27,
       "text": [
        "  arr_port  pax_total                          Airport_Name City\n",
        "0      LHR      88809               London Heathrow Airport  LON\n",
        "1      MCO      70930         Orlando International Airport  ORL\n",
        "2      LAX      70530     Los Angeles International Airport  LAX\n",
        "3      LAS      69630       Mc Carran International Airport  LAS\n",
        "4      JFK      66270  John F Kennedy International Airport  NYC\n",
        "5      CDG      64490             Paris - Charles-de-Gaulle  PAR\n",
        "6      BKK      59460                          Suvarnabhumi  BKK\n",
        "7      MIA      58150           Miami International Airport  MIA\n",
        "8      SFO      58000   San Francisco International Airport  SFO\n",
        "9      DXB      55590           Dubai International Airport  DXB"
       ]
      }
     ],
     "prompt_number": 27
    },
    {
     "cell_type": "code",
     "collapsed": false,
     "input": [
      "# Third exercise: plot the monthly number of searches for flights arriving at M\u00e1laga, Madrid or Barcelona"
     ],
     "language": "python",
     "metadata": {},
     "outputs": [],
     "prompt_number": 28
    },
    {
     "cell_type": "code",
     "collapsed": false,
     "input": [
      "import matplotlib\n",
      "import pylab\n",
      "import numpy as np\n",
      "%pylab inline"
     ],
     "language": "python",
     "metadata": {},
     "outputs": [
      {
       "output_type": "stream",
       "stream": "stdout",
       "text": [
        "Populating the interactive namespace from numpy and matplotlib\n"
       ]
      },
      {
       "output_type": "stream",
       "stream": "stderr",
       "text": [
        "WARNING: pylab import has clobbered these variables: ['load', 'info', 'save', 'pylab', 'datetime', 'unique']\n",
        "`%matplotlib` prevents importing * from pylab and numpy\n"
       ]
      }
     ],
     "prompt_number": 29
    },
    {
     "cell_type": "code",
     "collapsed": false,
     "input": [
      "df_search=pd.read_table('C:/amadeus/searches.csv',sep='^',iterator=True,chunksize=50000)"
     ],
     "language": "python",
     "metadata": {},
     "outputs": [],
     "prompt_number": 30
    },
    {
     "cell_type": "code",
     "collapsed": false,
     "input": [
      "df_search.get_chunk(2)"
     ],
     "language": "python",
     "metadata": {},
     "outputs": [
      {
       "html": [
        "<div style=\"max-height:1000px;max-width:1500px;overflow:auto;\">\n",
        "<table border=\"1\" class=\"dataframe\">\n",
        "  <thead>\n",
        "    <tr style=\"text-align: right;\">\n",
        "      <th></th>\n",
        "      <th>Date</th>\n",
        "      <th>Time</th>\n",
        "      <th>TxnCode</th>\n",
        "      <th>OfficeID</th>\n",
        "      <th>Country</th>\n",
        "      <th>Origin</th>\n",
        "      <th>Destination</th>\n",
        "      <th>RoundTrip</th>\n",
        "      <th>NbSegments</th>\n",
        "      <th>Seg1Departure</th>\n",
        "      <th>...</th>\n",
        "      <th>Seg6Arrival</th>\n",
        "      <th>Seg6Date</th>\n",
        "      <th>Seg6Carrier</th>\n",
        "      <th>Seg6BookingCode</th>\n",
        "      <th>From</th>\n",
        "      <th>IsPublishedForNeg</th>\n",
        "      <th>IsFromInternet</th>\n",
        "      <th>IsFromVista</th>\n",
        "      <th>TerminalID</th>\n",
        "      <th>InternetOffice</th>\n",
        "    </tr>\n",
        "  </thead>\n",
        "  <tbody>\n",
        "    <tr>\n",
        "      <th>0</th>\n",
        "      <td> 2013-01-01</td>\n",
        "      <td> 20:25:57</td>\n",
        "      <td> MPT</td>\n",
        "      <td> 624d8c3ac0b3a7ca03e3c167e0f48327</td>\n",
        "      <td> DE</td>\n",
        "      <td> TXL</td>\n",
        "      <td> AUH</td>\n",
        "      <td> 1</td>\n",
        "      <td> 2</td>\n",
        "      <td> TXL</td>\n",
        "      <td>...</td>\n",
        "      <td>NaN</td>\n",
        "      <td>NaN</td>\n",
        "      <td>NaN</td>\n",
        "      <td>NaN</td>\n",
        "      <td> 1ASIWS</td>\n",
        "      <td> 0</td>\n",
        "      <td> 0</td>\n",
        "      <td> 0</td>\n",
        "      <td> d41d8cd98f00b204e9800998ecf8427e</td>\n",
        "      <td> FRA</td>\n",
        "    </tr>\n",
        "    <tr>\n",
        "      <th>1</th>\n",
        "      <td> 2013-01-01</td>\n",
        "      <td> 10:15:33</td>\n",
        "      <td> MPT</td>\n",
        "      <td> b0af35b31588dc4ab06d5cf2986e8e02</td>\n",
        "      <td> MD</td>\n",
        "      <td> ATH</td>\n",
        "      <td> MIL</td>\n",
        "      <td> 0</td>\n",
        "      <td> 1</td>\n",
        "      <td> ATH</td>\n",
        "      <td>...</td>\n",
        "      <td>NaN</td>\n",
        "      <td>NaN</td>\n",
        "      <td>NaN</td>\n",
        "      <td>NaN</td>\n",
        "      <td> 1ASIWS</td>\n",
        "      <td> 0</td>\n",
        "      <td> 0</td>\n",
        "      <td> 0</td>\n",
        "      <td> d41d8cd98f00b204e9800998ecf8427e</td>\n",
        "      <td> KIV</td>\n",
        "    </tr>\n",
        "  </tbody>\n",
        "</table>\n",
        "<p>2 rows \u00d7 45 columns</p>\n",
        "</div>"
       ],
       "metadata": {},
       "output_type": "pyout",
       "prompt_number": 31,
       "text": [
        "         Date      Time TxnCode                          OfficeID Country  \\\n",
        "0  2013-01-01  20:25:57     MPT  624d8c3ac0b3a7ca03e3c167e0f48327      DE   \n",
        "1  2013-01-01  10:15:33     MPT  b0af35b31588dc4ab06d5cf2986e8e02      MD   \n",
        "\n",
        "  Origin Destination  RoundTrip  NbSegments Seg1Departure      ...       \\\n",
        "0    TXL         AUH          1           2           TXL      ...        \n",
        "1    ATH         MIL          0           1           ATH      ...        \n",
        "\n",
        "  Seg6Arrival Seg6Date Seg6Carrier  Seg6BookingCode    From IsPublishedForNeg  \\\n",
        "0         NaN      NaN         NaN              NaN  1ASIWS                 0   \n",
        "1         NaN      NaN         NaN              NaN  1ASIWS                 0   \n",
        "\n",
        "  IsFromInternet IsFromVista                        TerminalID  InternetOffice  \n",
        "0              0           0  d41d8cd98f00b204e9800998ecf8427e             FRA  \n",
        "1              0           0  d41d8cd98f00b204e9800998ecf8427e             KIV  \n",
        "\n",
        "[2 rows x 45 columns]"
       ]
      }
     ],
     "prompt_number": 31
    },
    {
     "cell_type": "code",
     "collapsed": false,
     "input": [
      "geo_o.get('AGP', 'name')"
     ],
     "language": "python",
     "metadata": {},
     "outputs": [
      {
       "metadata": {},
       "output_type": "pyout",
       "prompt_number": 32,
       "text": [
        "'M\\xc3\\xa1laga Airport'"
       ]
      }
     ],
     "prompt_number": 32
    },
    {
     "cell_type": "code",
     "collapsed": false,
     "input": [
      "geo_o.get('MAD', 'name')"
     ],
     "language": "python",
     "metadata": {},
     "outputs": [
      {
       "metadata": {},
       "output_type": "pyout",
       "prompt_number": 33,
       "text": [
        "'Madrid / Barajas'"
       ]
      }
     ],
     "prompt_number": 33
    },
    {
     "cell_type": "code",
     "collapsed": false,
     "input": [
      "geo_o.get('BCN', 'name')"
     ],
     "language": "python",
     "metadata": {},
     "outputs": [
      {
       "metadata": {},
       "output_type": "pyout",
       "prompt_number": 34,
       "text": [
        "'Barcelona\\xe2\\x80\\x93El Prat Airport'"
       ]
      }
     ],
     "prompt_number": 34
    },
    {
     "cell_type": "code",
     "collapsed": false,
     "input": [
      "df_search=pd.read_table('C:/amadeus/searches.csv',sep='^',usecols=['Date','Destination'])"
     ],
     "language": "python",
     "metadata": {},
     "outputs": [],
     "prompt_number": 35
    },
    {
     "cell_type": "code",
     "collapsed": false,
     "input": [
      "df2=df_search[df_search['Destination'].isin(['BCN', 'MAD', 'AGP'])]"
     ],
     "language": "python",
     "metadata": {},
     "outputs": [],
     "prompt_number": 36
    },
    {
     "cell_type": "code",
     "collapsed": false,
     "input": [
      "df2['Searches']=1"
     ],
     "language": "python",
     "metadata": {},
     "outputs": [],
     "prompt_number": 37
    },
    {
     "cell_type": "code",
     "collapsed": false,
     "input": [
      "df2['month'] = pd.DatetimeIndex(df2['Date']).month"
     ],
     "language": "python",
     "metadata": {},
     "outputs": [],
     "prompt_number": 38
    },
    {
     "cell_type": "code",
     "collapsed": false,
     "input": [
      "rcParams['figure.figsize'] = 20, 15"
     ],
     "language": "python",
     "metadata": {},
     "outputs": [],
     "prompt_number": 39
    },
    {
     "cell_type": "code",
     "collapsed": false,
     "input": [
      "df3= df2.groupby(['month','Destination']).sum()"
     ],
     "language": "python",
     "metadata": {},
     "outputs": [],
     "prompt_number": 40
    },
    {
     "cell_type": "code",
     "collapsed": false,
     "input": [
      "df3.head()"
     ],
     "language": "python",
     "metadata": {},
     "outputs": [
      {
       "html": [
        "<div style=\"max-height:1000px;max-width:1500px;overflow:auto;\">\n",
        "<table border=\"1\" class=\"dataframe\">\n",
        "  <thead>\n",
        "    <tr style=\"text-align: right;\">\n",
        "      <th></th>\n",
        "      <th></th>\n",
        "      <th>Searches</th>\n",
        "    </tr>\n",
        "    <tr>\n",
        "      <th>month</th>\n",
        "      <th>Destination</th>\n",
        "      <th></th>\n",
        "    </tr>\n",
        "  </thead>\n",
        "  <tbody>\n",
        "    <tr>\n",
        "      <th rowspan=\"3\" valign=\"top\">1</th>\n",
        "      <th>AGP</th>\n",
        "      <td>  9633</td>\n",
        "    </tr>\n",
        "    <tr>\n",
        "      <th>BCN</th>\n",
        "      <td> 29469</td>\n",
        "    </tr>\n",
        "    <tr>\n",
        "      <th>MAD</th>\n",
        "      <td> 24258</td>\n",
        "    </tr>\n",
        "    <tr>\n",
        "      <th rowspan=\"2\" valign=\"top\">2</th>\n",
        "      <th>AGP</th>\n",
        "      <td>  8379</td>\n",
        "    </tr>\n",
        "    <tr>\n",
        "      <th>BCN</th>\n",
        "      <td> 28329</td>\n",
        "    </tr>\n",
        "  </tbody>\n",
        "</table>\n",
        "</div>"
       ],
       "metadata": {},
       "output_type": "pyout",
       "prompt_number": 41,
       "text": [
        "                   Searches\n",
        "month Destination          \n",
        "1     AGP              9633\n",
        "      BCN             29469\n",
        "      MAD             24258\n",
        "2     AGP              8379\n",
        "      BCN             28329"
       ]
      }
     ],
     "prompt_number": 41
    },
    {
     "cell_type": "code",
     "collapsed": false,
     "input": [
      "df3.plot(kind='bar')"
     ],
     "language": "python",
     "metadata": {},
     "outputs": [
      {
       "metadata": {},
       "output_type": "pyout",
       "prompt_number": 42,
       "text": [
        "<matplotlib.axes.AxesSubplot at 0x11a50fb0>"
       ]
      },
      {
       "metadata": {},
       "output_type": "display_data",
       "png": "[encoded data removed]",
       "text": [
        "<matplotlib.figure.Figure at 0xedfc950>"
       ]
      }
     ],
     "prompt_number": 42
    },
    {
     "cell_type": "code",
     "collapsed": false,
     "input": [
      "# Bonus exercise: write a Web Service "
     ],
     "language": "python",
     "metadata": {},
     "outputs": [],
     "prompt_number": 43
    },
    {
     "cell_type": "code",
     "collapsed": false,
     "input": [
      "# Web Service with Flask and Json for Top 10 arrival airports in the world in 2013"
     ],
     "language": "python",
     "metadata": {},
     "outputs": [],
     "prompt_number": 44
    },
    {
     "cell_type": "code",
     "collapsed": false,
     "input": [
      "import json"
     ],
     "language": "python",
     "metadata": {},
     "outputs": [],
     "prompt_number": 45
    },
    {
     "cell_type": "code",
     "collapsed": false,
     "input": [
      "df_air=pd.read_table('C:/amadeus/bookings.csv',sep='^',usecols=['arr_port','pax'])"
     ],
     "language": "python",
     "metadata": {},
     "outputs": [],
     "prompt_number": 46
    },
    {
     "cell_type": "code",
     "collapsed": false,
     "input": [
      "def top_airports(n):\n",
      "    dfg=df_air.groupby('arr_port').sum()\n",
      "    dfg2=dfg.sort(['pax'],ascending=[0]).head(int(n)).add_suffix('_total').reset_index()\n",
      "    df_json=dfg2.to_json(orient='index')\n",
      "    return df_json"
     ],
     "language": "python",
     "metadata": {},
     "outputs": [],
     "prompt_number": 47
    },
    {
     "cell_type": "code",
     "collapsed": false,
     "input": [
      "from flask import Flask, url_for, Response\n",
      "app = Flask(__name__)\n",
      "\n",
      "\n",
      "@app.route('/api/v1/top_airports/<n>', methods = ['GET'])\n",
      "def top_airport(n):\n",
      "    df_json=top_airports(n)\n",
      "    js = json.dumps(df_json)\n",
      "\n",
      "    resp = Response(df_json, status=200, mimetype='application/json')\n",
      "    \n",
      "    return resp    \n",
      "\n",
      "if __name__ == '__main__':\n",
      "    app.run()"
     ],
     "language": "python",
     "metadata": {},
     "outputs": [],
     "prompt_number": 48
    },
    {
     "cell_type": "code",
     "collapsed": false,
     "input": [
      "# Type the below URL in a Browser\n",
      "# http://localhost:5000/api/v1/top_airports/20\n",
      "\n",
      "# Below output is returned in the Browser\n",
      "\n",
      "# {\"0\":{\"arr_port\":\"LHR     \",\"pax_total\":88809.0},\"1\":{\"arr_port\":\"MCO     \",\"pax_total\":70930.0},\"2\":{\"arr_port\":\"LAX    \n",
      "#\",\"pax_total\":70530.0},\"3\":{\"arr_port\":\"LAS     \",\"pax_total\":69630.0},\"4\":{\"arr_port\":\"JFK     \",\"pax_total\":66270.0},\n",
      "#\"5\":{\"arr_port\":\"CDG     \",\"pax_total\":64490.0},\"6\":{\"arr_port\":\"BKK     \",\"pax_total\":59460.0},\"7\":{\"arr_port\":\"MIA     \n",
      "#\",\"pax_total\":58150.0},\"8\":{\"arr_port\":\"SFO     \",\"pax_total\":58000.0},\"9\":{\"arr_port\":\"DXB     \",\"pax_total\":55590.0},\n",
      "#\"10\":{\"arr_port\":\"ORD     \",\"pax_total\":53200.0},\"11\":{\"arr_port\":\"FCO     \",\"pax_total\":45120.0},\"12\":{\"arr_port\":\"IST    \n",
      "#\",\"pax_total\":43850.0},\"13\":{\"arr_port\":\"DFW     \",\"pax_total\":42420.0},\"14\":{\"arr_port\":\"CUN     \",\"pax_total\":42000.0},\"15\"\n",
      "#:{\"arr_port\":\"MAD     \",\"pax_total\":41410.0},\"16\":{\"arr_port\":\"BCN     \",\"pax_total\":41200.0},\"17\":{\"arr_port\":\"LGA    \n",
      "#\",\"pax_total\":40712.0},\"18\":{\"arr_port\":\"ATL     \",\"pax_total\":39780.0},\"19\":{\"arr_port\":\"EWR     \",\"pax_total\":36890.0}}"
     ],
     "language": "python",
     "metadata": {},
     "outputs": [],
     "prompt_number": 49
    },
    {
     "cell_type": "code",
     "collapsed": false,
     "input": [],
     "language": "python",
     "metadata": {},
     "outputs": []
    }
   ],
   "metadata": {}
  }
 ]
}
